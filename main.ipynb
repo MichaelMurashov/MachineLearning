{
 "cells": [
  {
   "cell_type": "markdown",
   "metadata": {},
   "source": [
    "Мировой рейтинг университетов ([kaggle](https://www.kaggle.com/mylesoneill/world-university-rankings))"
   ]
  },
  {
   "cell_type": "code",
   "execution_count": 32,
   "metadata": {
    "collapsed": true
   },
   "outputs": [],
   "source": [
    "import numpy as np\n",
    "import pandas as pd\n",
    "from pandas.plotting import scatter_matrix\n",
    "import matplotlib.pyplot as plt\n",
    "plt.style.use('ggplot')\n",
    "%matplotlib inline"
   ]
  },
  {
   "cell_type": "markdown",
   "metadata": {},
   "source": [
    "Чтение данных. Какие русские университеты входят в список?"
   ]
  },
  {
   "cell_type": "code",
   "execution_count": 73,
   "metadata": {
    "collapsed": true
   },
   "outputs": [
    {
     "name": "stdout",
     "output_type": "stream",
     "text": [
      "(2200, 14)\n189              Lomonosov Moscow State University\n247              Lomonosov Moscow State University\n484              Saint Petersburg State University\n1115                  Novosibirsk State University\n1258             Lomonosov Moscow State University\n1449    Moscow Institute of Physics and Technology\n1605             Saint Petersburg State University\n1954    National Research Nuclear University MEPhI\n2184                  Novosibirsk State University\nName: institution, dtype: object\n"
     ]
    }
   ],
   "source": [
    "data = pd.read_csv('cwurData.csv', header=0)\n",
    "print(data.shape)\n",
    "print(data['institution'][data['country'] == 'Russia'])"
   ]
  },
  {
   "cell_type": "code",
   "execution_count": 74,
   "metadata": {},
   "outputs": [
    {
     "data": {
      "text/html": [
       "<div>\n",
       "<style scoped>\n",
       "    .dataframe tbody tr th:only-of-type {\n",
       "        vertical-align: middle;\n",
       "    }\n",
       "\n",
       "    .dataframe tbody tr th {\n",
       "        vertical-align: top;\n",
       "    }\n",
       "\n",
       "    .dataframe thead th {\n",
       "        text-align: right;\n",
       "    }\n",
       "</style>\n",
       "<table border=\"1\" class=\"dataframe\">\n",
       "  <thead>\n",
       "    <tr style=\"text-align: right;\">\n",
       "      <th></th>\n",
       "      <th>world_rank</th>\n",
       "      <th>institution</th>\n",
       "      <th>country</th>\n",
       "      <th>national_rank</th>\n",
       "      <th>quality_of_education</th>\n",
       "      <th>alumni_employment</th>\n",
       "      <th>quality_of_faculty</th>\n",
       "      <th>publications</th>\n",
       "      <th>influence</th>\n",
       "      <th>citations</th>\n",
       "      <th>broad_impact</th>\n",
       "      <th>patents</th>\n",
       "      <th>score</th>\n",
       "      <th>year</th>\n",
       "    </tr>\n",
       "  </thead>\n",
       "  <tbody>\n",
       "    <tr>\n",
       "      <th>0</th>\n",
       "      <td>1</td>\n",
       "      <td>Harvard University</td>\n",
       "      <td>USA</td>\n",
       "      <td>1</td>\n",
       "      <td>7</td>\n",
       "      <td>9</td>\n",
       "      <td>1</td>\n",
       "      <td>1</td>\n",
       "      <td>1</td>\n",
       "      <td>1</td>\n",
       "      <td>NaN</td>\n",
       "      <td>5</td>\n",
       "      <td>100.00</td>\n",
       "      <td>2012</td>\n",
       "    </tr>\n",
       "    <tr>\n",
       "      <th>1</th>\n",
       "      <td>2</td>\n",
       "      <td>Massachusetts Institute of Technology</td>\n",
       "      <td>USA</td>\n",
       "      <td>2</td>\n",
       "      <td>9</td>\n",
       "      <td>17</td>\n",
       "      <td>3</td>\n",
       "      <td>12</td>\n",
       "      <td>4</td>\n",
       "      <td>4</td>\n",
       "      <td>NaN</td>\n",
       "      <td>1</td>\n",
       "      <td>91.67</td>\n",
       "      <td>2012</td>\n",
       "    </tr>\n",
       "    <tr>\n",
       "      <th>2</th>\n",
       "      <td>3</td>\n",
       "      <td>Stanford University</td>\n",
       "      <td>USA</td>\n",
       "      <td>3</td>\n",
       "      <td>17</td>\n",
       "      <td>11</td>\n",
       "      <td>5</td>\n",
       "      <td>4</td>\n",
       "      <td>2</td>\n",
       "      <td>2</td>\n",
       "      <td>NaN</td>\n",
       "      <td>15</td>\n",
       "      <td>89.50</td>\n",
       "      <td>2012</td>\n",
       "    </tr>\n",
       "    <tr>\n",
       "      <th>3</th>\n",
       "      <td>4</td>\n",
       "      <td>University of Cambridge</td>\n",
       "      <td>United Kingdom</td>\n",
       "      <td>1</td>\n",
       "      <td>10</td>\n",
       "      <td>24</td>\n",
       "      <td>4</td>\n",
       "      <td>16</td>\n",
       "      <td>16</td>\n",
       "      <td>11</td>\n",
       "      <td>NaN</td>\n",
       "      <td>50</td>\n",
       "      <td>86.17</td>\n",
       "      <td>2012</td>\n",
       "    </tr>\n",
       "    <tr>\n",
       "      <th>4</th>\n",
       "      <td>5</td>\n",
       "      <td>California Institute of Technology</td>\n",
       "      <td>USA</td>\n",
       "      <td>4</td>\n",
       "      <td>2</td>\n",
       "      <td>29</td>\n",
       "      <td>7</td>\n",
       "      <td>37</td>\n",
       "      <td>22</td>\n",
       "      <td>22</td>\n",
       "      <td>NaN</td>\n",
       "      <td>18</td>\n",
       "      <td>85.21</td>\n",
       "      <td>2012</td>\n",
       "    </tr>\n",
       "  </tbody>\n",
       "</table>\n",
       "</div>"
      ],
      "text/plain": [
       "<div>\n",
       "<style scoped>\n",
       "    .dataframe tbody tr th:only-of-type {\n",
       "        vertical-align: middle;\n",
       "    }\n",
       "\n",
       "    .dataframe tbody tr th {\n",
       "        vertical-align: top;\n",
       "    }\n",
       "\n",
       "    .dataframe thead th {\n",
       "        text-align: right;\n",
       "    }\n",
       "</style>\n",
       "<table border=\"1\" class=\"dataframe\">\n",
       "  <thead>\n",
       "    <tr style=\"text-align: right;\">\n",
       "      <th></th>\n",
       "      <th>world_rank</th>\n",
       "      <th>institution</th>\n",
       "      <th>country</th>\n",
       "      <th>national_rank</th>\n",
       "      <th>quality_of_education</th>\n",
       "      <th>alumni_employment</th>\n",
       "      <th>quality_of_faculty</th>\n",
       "      <th>publications</th>\n",
       "      <th>influence</th>\n",
       "      <th>citations</th>\n",
       "      <th>broad_impact</th>\n",
       "      <th>patents</th>\n",
       "      <th>score</th>\n",
       "      <th>year</th>\n",
       "    </tr>\n",
       "  </thead>\n",
       "  <tbody>\n",
       "    <tr>\n",
       "      <th>0</th>\n",
       "      <td>1</td>\n",
       "      <td>Harvard University</td>\n",
       "      <td>USA</td>\n",
       "      <td>1</td>\n",
       "      <td>7</td>\n",
       "      <td>9</td>\n",
       "      <td>1</td>\n",
       "      <td>1</td>\n",
       "      <td>1</td>\n",
       "      <td>1</td>\n",
       "      <td>NaN</td>\n",
       "      <td>5</td>\n",
       "      <td>100.00</td>\n",
       "      <td>2012</td>\n",
       "    </tr>\n",
       "    <tr>\n",
       "      <th>1</th>\n",
       "      <td>2</td>\n",
       "      <td>Massachusetts Institute of Technology</td>\n",
       "      <td>USA</td>\n",
       "      <td>2</td>\n",
       "      <td>9</td>\n",
       "      <td>17</td>\n",
       "      <td>3</td>\n",
       "      <td>12</td>\n",
       "      <td>4</td>\n",
       "      <td>4</td>\n",
       "      <td>NaN</td>\n",
       "      <td>1</td>\n",
       "      <td>91.67</td>\n",
       "      <td>2012</td>\n",
       "    </tr>\n",
       "    <tr>\n",
       "      <th>2</th>\n",
       "      <td>3</td>\n",
       "      <td>Stanford University</td>\n",
       "      <td>USA</td>\n",
       "      <td>3</td>\n",
       "      <td>17</td>\n",
       "      <td>11</td>\n",
       "      <td>5</td>\n",
       "      <td>4</td>\n",
       "      <td>2</td>\n",
       "      <td>2</td>\n",
       "      <td>NaN</td>\n",
       "      <td>15</td>\n",
       "      <td>89.50</td>\n",
       "      <td>2012</td>\n",
       "    </tr>\n",
       "    <tr>\n",
       "      <th>3</th>\n",
       "      <td>4</td>\n",
       "      <td>University of Cambridge</td>\n",
       "      <td>United Kingdom</td>\n",
       "      <td>1</td>\n",
       "      <td>10</td>\n",
       "      <td>24</td>\n",
       "      <td>4</td>\n",
       "      <td>16</td>\n",
       "      <td>16</td>\n",
       "      <td>11</td>\n",
       "      <td>NaN</td>\n",
       "      <td>50</td>\n",
       "      <td>86.17</td>\n",
       "      <td>2012</td>\n",
       "    </tr>\n",
       "    <tr>\n",
       "      <th>4</th>\n",
       "      <td>5</td>\n",
       "      <td>California Institute of Technology</td>\n",
       "      <td>USA</td>\n",
       "      <td>4</td>\n",
       "      <td>2</td>\n",
       "      <td>29</td>\n",
       "      <td>7</td>\n",
       "      <td>37</td>\n",
       "      <td>22</td>\n",
       "      <td>22</td>\n",
       "      <td>NaN</td>\n",
       "      <td>18</td>\n",
       "      <td>85.21</td>\n",
       "      <td>2012</td>\n",
       "    </tr>\n",
       "  </tbody>\n",
       "</table>\n",
       "</div>"
      ]
     },
     "execution_count": 74,
     "metadata": {},
     "output_type": "execute_result"
    }
   ],
   "source": [
    "data.head()"
   ]
  },
  {
   "cell_type": "markdown",
   "metadata": {},
   "source": [
    "Данные в столбцах представляют собой рейтинг в данной категории. Поэтому, чем меньше значение, тем лучше."
   ]
  },
  {
   "cell_type": "code",
   "execution_count": 75,
   "metadata": {
    "collapsed": false
   },
   "outputs": [
    {
     "data": {
      "image/png": "[encoded data removed]",
      "text/plain": [
       "<Figure size 432x288 with 1 Axes>"
      ]
     },
     "metadata": {},
     "output_type": "display_data"
    }
   ],
   "source": [
    "plt.plot(data['quality_of_education'], data['score'], 'o', alpha=0.1)\n",
    "plt.xlabel('quality_of_education')\n",
    "plt.ylabel('score')\n",
    "pass"
   ]
  },
  {
   "cell_type": "markdown",
   "metadata": {},
   "source": [
    "В таблице присутствуют данные за 2012, 2013, 2014 и 2015 года. Возьмем данные только за 2015 год. Как видно, пропущенных значений нет."
   ]
  },
  {
   "cell_type": "code",
   "execution_count": 76,
   "metadata": {},
   "outputs": [
    {
     "name": "stdout",
     "output_type": "stream",
     "text": [
      "world_rank              1000\ninstitution             1000\ncountry                 1000\nnational_rank           1000\nquality_of_education    1000\nalumni_employment       1000\nquality_of_faculty      1000\npublications            1000\ninfluence               1000\ncitations               1000\nbroad_impact            1000\npatents                 1000\nscore                   1000\nyear                    1000\ndtype: int64\n"
     ]
    }
   ],
   "source": [
    "data = data.loc[data['year'] == 2015]\n",
    "print(data.count())"
   ]
  },
  {
   "cell_type": "markdown",
   "metadata": {},
   "source": [
    "Некоторые столбцы нас не интересуют, удалим их. Столбец \"world_rank\" нас не интересует, так как присутствует столбец \"score\", из которого и получается ранг."
   ]
  },
  {
   "cell_type": "code",
   "execution_count": 77,
   "metadata": {},
   "outputs": [],
   "source": [
    "data.drop(['institution', 'world_rank', 'year'], axis=1, inplace=True)"
   ]
  },
  {
   "cell_type": "markdown",
   "metadata": {},
   "source": [
    "Распределим столбцы на категориальные и числовые"
   ]
  },
  {
   "cell_type": "code",
   "execution_count": 78,
   "metadata": {},
   "outputs": [
    {
     "name": "stdout",
     "output_type": "stream",
     "text": [
      "['country']\n['national_rank', 'quality_of_education', 'alumni_employment', 'quality_of_faculty', 'publications', 'influence', 'citations', 'broad_impact', 'patents', 'score']\n"
     ]
    }
   ],
   "source": [
    "categorical_columns = [c for c in data.columns if data[c].dtype.name == 'object']\n",
    "numerical_columns = [c for c in data.columns if data[c].dtype.name != 'object']\n",
    "print(categorical_columns)\n",
    "print(numerical_columns)"
   ]
  },
  {
   "cell_type": "markdown",
   "metadata": {},
   "source": [
    "Проверим есть ли в категориальных данных бинарные. Бинарных данных нет."
   ]
  },
  {
   "cell_type": "code",
   "execution_count": 79,
   "metadata": {},
   "outputs": [
    {
     "name": "stdout",
     "output_type": "stream",
     "text": [
      "[] ['country']\n"
     ]
    }
   ],
   "source": [
    "data_describe = data.describe(include=[object])\n",
    "binary_columns = [c for c in categorical_columns if data_describe[c]['unique'] == 2]\n",
    "nonbinary_columns = [c for c in categorical_columns if data_describe[c]['unique'] > 2]\n",
    "print(binary_columns, nonbinary_columns)"
   ]
  },
  {
   "cell_type": "markdown",
   "metadata": {},
   "source": [
    "Рассмотрим столбец \"Страна\" и векторизуем его"
   ]
  },
  {
   "cell_type": "code",
   "execution_count": 80,
   "metadata": {
    "collapsed": false
   },
   "outputs": [
    {
     "data": {
      "text/plain": [
       "array(['USA', 'United Kingdom', 'Japan', 'Switzerland', 'Israel',\n       'South Korea', 'Canada', 'France', 'China', 'Taiwan', 'Russia',\n       'Singapore', 'Sweden', 'Denmark', 'Germany', 'Belgium',\n       'Netherlands', 'Australia', 'Norway', 'Finland', 'Italy', 'Spain',\n       'Brazil', 'South Africa', 'Hong Kong', 'Ireland', 'Austria',\n       'Portugal', 'New Zealand', 'Czech Republic', 'Greece', 'Thailand',\n       'Mexico', 'India', 'Argentina', 'Chile', 'Poland', 'Hungary',\n       'Iceland', 'Turkey', 'Malaysia', 'Slovenia', 'Estonia', 'Croatia',\n       'Saudi Arabia', 'Colombia', 'Lebanon', 'Slovak Republic', 'Iran',\n       'Serbia', 'Lithuania', 'Egypt', 'Bulgaria', 'Uruguay', 'Uganda',\n       'Cyprus', 'United Arab Emirates', 'Puerto Rico', 'Romania'],\n      dtype=object)"
      ]
     },
     "execution_count": 80,
     "metadata": {},
     "output_type": "execute_result"
    }
   ],
   "source": [
    "data['country'].unique()"
   ]
  },
  {
   "cell_type": "code",
   "execution_count": 81,
   "metadata": {},
   "outputs": [
    {
     "name": "stdout",
     "output_type": "stream",
     "text": [
      "Index(['country_Argentina', 'country_Australia', 'country_Austria',\n       'country_Belgium', 'country_Brazil', 'country_Bulgaria',\n       'country_Canada', 'country_Chile', 'country_China', 'country_Colombia',\n       'country_Croatia', 'country_Cyprus', 'country_Czech Republic',\n       'country_Denmark', 'country_Egypt', 'country_Estonia',\n       'country_Finland', 'country_France', 'country_Germany',\n       'country_Greece', 'country_Hong Kong', 'country_Hungary',\n       'country_Iceland', 'country_India', 'country_Iran', 'country_Ireland',\n       'country_Israel', 'country_Italy', 'country_Japan', 'country_Lebanon',\n       'country_Lithuania', 'country_Malaysia', 'country_Mexico',\n       'country_Netherlands', 'country_New Zealand', 'country_Norway',\n       'country_Poland', 'country_Portugal', 'country_Puerto Rico',\n       'country_Romania', 'country_Russia', 'country_Saudi Arabia',\n       'country_Serbia', 'country_Singapore', 'country_Slovak Republic',\n       'country_Slovenia', 'country_South Africa', 'country_South Korea',\n       'country_Spain', 'country_Sweden', 'country_Switzerland',\n       'country_Taiwan', 'country_Thailand', 'country_Turkey', 'country_USA',\n       'country_Uganda', 'country_United Arab Emirates',\n       'country_United Kingdom', 'country_Uruguay'],\n      dtype='object')\n"
     ]
    }
   ],
   "source": [
    "data_nonbinary = pd.get_dummies(data[nonbinary_columns])\n",
    "print(data_nonbinary.columns)"
   ]
  },
  {
   "cell_type": "markdown",
   "metadata": {},
   "source": [
    "Числовые данные нормализуем"
   ]
  },
  {
   "cell_type": "code",
   "execution_count": 82,
   "metadata": {},
   "outputs": [],
   "source": [
    "data_numerical = data[numerical_columns]\n",
    "data_numerical = (data_numerical - data_numerical.mean(axis=0)) / data_numerical.std(axis=0)"
   ]
  },
  {
   "cell_type": "markdown",
   "metadata": {},
   "source": [
    "Соеденим получившиеся данные"
   ]
  },
  {
   "cell_type": "code",
   "execution_count": 90,
   "metadata": {},
   "outputs": [
    {
     "name": "stdout",
     "output_type": "stream",
     "text": [
      "(1000, 69) Index(['national_rank', 'quality_of_education', 'alumni_employment',\n       'quality_of_faculty', 'publications', 'influence', 'citations',\n       'broad_impact', 'patents', 'score', 'country_Argentina',\n       'country_Australia', 'country_Austria', 'country_Belgium',\n       'country_Brazil', 'country_Bulgaria', 'country_Canada', 'country_Chile',\n       'country_China', 'country_Colombia', 'country_Croatia',\n       'country_Cyprus', 'country_Czech Republic', 'country_Denmark',\n       'country_Egypt', 'country_Estonia', 'country_Finland', 'country_France',\n       'country_Germany', 'country_Greece', 'country_Hong Kong',\n       'country_Hungary', 'country_Iceland', 'country_India', 'country_Iran',\n       'country_Ireland', 'country_Israel', 'country_Italy', 'country_Japan',\n       'country_Lebanon', 'country_Lithuania', 'country_Malaysia',\n       'country_Mexico', 'country_Netherlands', 'country_New Zealand',\n       'country_Norway', 'country_Poland', 'country_Portugal',\n       'country_Puerto Rico', 'country_Romania', 'country_Russia',\n       'country_Saudi Arabia', 'country_Serbia', 'country_Singapore',\n       'country_Slovak Republic', 'country_Slovenia', 'country_South Africa',\n       'country_South Korea', 'country_Spain', 'country_Sweden',\n       'country_Switzerland', 'country_Taiwan', 'country_Thailand',\n       'country_Turkey', 'country_USA', 'country_Uganda',\n       'country_United Arab Emirates', 'country_United Kingdom',\n       'country_Uruguay'],\n      dtype='object')\nnational_rank                   int32\nquality_of_education            int32\nalumni_employment               int32\nquality_of_faculty              int32\npublications                    int32\ninfluence                       int32\ncitations                       int32\nbroad_impact                    int32\npatents                         int32\nscore                           int32\ncountry_Argentina               int32\ncountry_Australia               int32\ncountry_Austria                 int32\ncountry_Belgium                 int32\ncountry_Brazil                  int32\ncountry_Bulgaria                int32\ncountry_Canada                  int32\ncountry_Chile                   int32\ncountry_China                   int32\ncountry_Colombia                int32\ncountry_Croatia                 int32\ncountry_Cyprus                  int32\ncountry_Czech Republic          int32\ncountry_Denmark                 int32\ncountry_Egypt                   int32\ncountry_Estonia                 int32\ncountry_Finland                 int32\ncountry_France                  int32\ncountry_Germany                 int32\ncountry_Greece                  int32\n                                ...  \ncountry_Lebanon                 int32\ncountry_Lithuania               int32\ncountry_Malaysia                int32\ncountry_Mexico                  int32\ncountry_Netherlands             int32\ncountry_New Zealand             int32\ncountry_Norway                  int32\ncountry_Poland                  int32\ncountry_Portugal                int32\ncountry_Puerto Rico             int32\ncountry_Romania                 int32\ncountry_Russia                  int32\ncountry_Saudi Arabia            int32\ncountry_Serbia                  int32\ncountry_Singapore               int32\ncountry_Slovak Republic         int32\ncountry_Slovenia                int32\ncountry_South Africa            int32\ncountry_South Korea             int32\ncountry_Spain                   int32\ncountry_Sweden                  int32\ncountry_Switzerland             int32\ncountry_Taiwan                  int32\ncountry_Thailand                int32\ncountry_Turkey                  int32\ncountry_USA                     int32\ncountry_Uganda                  int32\ncountry_United Arab Emirates    int32\ncountry_United Kingdom          int32\ncountry_Uruguay                 int32\nLength: 69, dtype: object\n"
     ]
    }
   ],
   "source": [
    "data = pd.DataFrame(pd.concat((data_numerical, data_nonbinary), axis=1), dtype=int)\n",
    "print(data.shape, data.columns)\n",
    "print(data.dtypes)"
   ]
  },
  {
   "cell_type": "markdown",
   "metadata": {},
   "source": [
    "Подготовим данные для обучения"
   ]
  },
  {
   "cell_type": "code",
   "execution_count": 91,
   "metadata": {},
   "outputs": [
    {
     "name": "stdout",
     "output_type": "stream",
     "text": [
      "(1000, 68) (1000,)\n"
     ]
    }
   ],
   "source": [
    "X = data.drop(['score'], axis=1)\n",
    "y = data['score']\n",
    "feature_name = X.columns\n",
    "N, d = X.shape\n",
    "print(X.shape, y.shape)"
   ]
  },
  {
   "cell_type": "markdown",
   "metadata": {},
   "source": [
    "Разделим данные на обучающую и тренировучную выборки"
   ]
  },
  {
   "cell_type": "code",
   "execution_count": 92,
   "metadata": {},
   "outputs": [
    {
     "name": "stdout",
     "output_type": "stream",
     "text": [
      "200 800\n"
     ]
    },
    {
     "name": "stderr",
     "output_type": "stream",
     "text": [
      "C:\\Users\\happy\\Anaconda3\\envs\\ml\\lib\\site-packages\\sklearn\\model_selection\\_split.py:2069: FutureWarning: From version 0.21, test_size will always complement train_size unless both are specified.\n  FutureWarning)\n"
     ]
    }
   ],
   "source": [
    "from sklearn.model_selection import train_test_split\n",
    "X_train, X_test, y_train, y_test = train_test_split(X, y, train_size=0.2, random_state=42)\n",
    "N_train, _ = X_train.shape\n",
    "N_test, _ = X_test.shape\n",
    "print(N_train, N_test)"
   ]
  },
  {
   "cell_type": "markdown",
   "metadata": {},
   "source": [
    "Используем классификатор \"k ближайших соседей\". Количество соседей = 10."
   ]
  },
  {
   "cell_type": "code",
   "execution_count": 93,
   "metadata": {},
   "outputs": [
    {
     "data": {
      "text/plain": [
       "KNeighborsClassifier(algorithm='auto', leaf_size=30, metric='minkowski',\n           metric_params=None, n_jobs=None, n_neighbors=10, p=2,\n           weights='uniform')"
      ]
     },
     "execution_count": 93,
     "metadata": {},
     "output_type": "execute_result"
    }
   ],
   "source": [
    "from sklearn.neighbors import KNeighborsClassifier\n",
    "knn = KNeighborsClassifier(n_neighbors=10)\n",
    "knn.fit(X_train, y_train)"
   ]
  },
  {
   "cell_type": "code",
   "execution_count": 95,
   "metadata": {},
   "outputs": [
    {
     "name": "stdout",
     "output_type": "stream",
     "text": [
      "0.08 0.06\n"
     ]
    }
   ],
   "source": [
    "y_train_predict = knn.predict(X_train)\n",
    "y_test_predict = knn.predict(X_test)\n",
    "\n",
    "err_train = np.mean(y_train != y_train_predict)\n",
    "err_test = np.mean(y_test != y_test_predict)\n",
    "print(err_train, err_test)"
   ]
  },
  {
   "cell_type": "code",
   "execution_count": 94,
   "metadata": {},
   "outputs": [
    {
     "name": "stderr",
     "output_type": "stream",
     "text": [
      "C:\\Users\\happy\\Anaconda3\\envs\\ml\\lib\\site-packages\\sklearn\\svm\\base.py:196: FutureWarning: The default value of gamma will change from 'auto' to 'scale' in version 0.22 to account better for unscaled features. Set gamma explicitly to 'auto' or 'scale' to avoid this warning.\n  \"avoid this warning.\", FutureWarning)\n"
     ]
    },
    {
     "data": {
      "text/plain": [
       "SVC(C=1.0, cache_size=200, class_weight=None, coef0=0.0,\n  decision_function_shape='ovr', degree=3, gamma='auto_deprecated',\n  kernel='rbf', max_iter=-1, probability=False, random_state=None,\n  shrinking=True, tol=0.001, verbose=False)"
      ]
     },
     "execution_count": 94,
     "metadata": {},
     "output_type": "execute_result"
    }
   ],
   "source": [
    "from sklearn.svm import SVC\n",
    "svc = SVC()\n",
    "svc.fit(X_train, y_train)"
   ]
  },
  {
   "cell_type": "code",
   "execution_count": null,
   "metadata": {},
   "outputs": [],
   "source": []
  }
 ],
 "metadata": {
  "kernelspec": {
   "display_name": "Python 2",
   "language": "python",
   "name": "python2"
  },
  "language_info": {
   "codemirror_mode": {
    "name": "ipython",
    "version": 2
   },
   "file_extension": ".py",
   "mimetype": "text/x-python",
   "name": "python",
   "nbconvert_exporter": "python",
   "pygments_lexer": "ipython2",
   "version": "2.7.6"
  }
 },
 "nbformat": 4,
 "nbformat_minor": 0
}
